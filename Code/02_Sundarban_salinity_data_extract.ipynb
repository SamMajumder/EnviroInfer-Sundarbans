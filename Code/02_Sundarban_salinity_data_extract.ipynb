{
  "nbformat": 4,
  "nbformat_minor": 0,
  "metadata": {
    "colab": {
      "provenance": [],
      "gpuType": "T4"
    },
    "kernelspec": {
      "name": "python3",
      "display_name": "Python 3"
    },
    "language_info": {
      "name": "python"
    },
    "accelerator": "GPU"
  },
  "cells": [
    {
      "cell_type": "markdown",
      "source": [
        "**Importing Necessary Libraries**: The script begins by importing necessary libraries:\n",
        "\n",
        "1) ee: The Google Earth Engine library is imported to enable interactions with Earth Engine servers, which is crucial for accessing and processing large datasets of geospatial information.\n",
        "\n",
        "2) pandas as pd: The pandas library, aliased as pd, is imported to facilitate data manipulation and analysis. This library provides data structures like dataframes and series along with the essential functionality required for cleaning, aggregating, transforming, visualizing, and more\n",
        "\n",
        "3) geopandas as gpd: Geopandas, aliased as gpd, is imported to make working with geospatial data in python easier. It extends the datatypes used by pandas to include geometric types and performs geometric operations.\n",
        "\n",
        "4)  The shapely.geometry module is imported for the manipulation and analysis of planar geometric objects. It provides a collection of geometric objects, and the methods and functions which can operate on these objects.\n",
        "\n",
        "5) The logging module is imported to enable logging of messages in a wide variety of ways. This can be helpful for tracking the flow of the program and debugging."
      ],
      "metadata": {
        "id": "xeDxCaLVXgVM"
      }
    },
    {
      "cell_type": "code",
      "execution_count": null,
      "metadata": {
        "id": "2RdQhfe9t39S"
      },
      "outputs": [],
      "source": [
        "import ee\n",
        "import pandas as pd\n",
        "import geopandas as gpd\n",
        "import logging\n",
        "from shapely.geometry import Point"
      ]
    },
    {
      "cell_type": "markdown",
      "source": [
        "**Authentication and Initialization** The code authenticates and initializes the Earth Engine using ee.Authenticate() and ee.Initialize() respectively."
      ],
      "metadata": {
        "id": "UHnC8JD3Yb66"
      }
    },
    {
      "cell_type": "code",
      "source": [
        "\n",
        "ee.Authenticate()\n",
        "\n",
        "ee.Initialize()"
      ],
      "metadata": {
        "id": "c-8neNJDuFd9"
      },
      "execution_count": null,
      "outputs": []
    },
    {
      "cell_type": "markdown",
      "source": [
        "**Function 1: extract_data**\n",
        "This function is tailored for data extraction from the Google Earth Engine, utilizing the specified parameters. This function is tailored to extract data from all bands of the dataset.\n",
        "\n",
        "If no dataset is specified, it defaults to the 'HYCOM/sea_temp_salinity' dataset."
      ],
      "metadata": {
        "id": "T6VJNKrZYje9"
      }
    },
    {
      "cell_type": "code",
      "source": [
        "def extract_data(start_date, end_date, dataset='HYCOM/sea_temp_salinity', region=None, scale=27830):\n",
        "    try:\n",
        "        collection = (ee.ImageCollection(dataset)\n",
        "                      .filterDate(ee.Date(start_date), ee.Date(end_date))\n",
        "                      .filterBounds(region))\n",
        "        return collection\n",
        "    except Exception as e:\n",
        "        logging.exception(f\"An error occurred during data extraction: {e}\")\n",
        "        return None\n",
        "\n",
        "def process_data_to_dataframe(collection, start_date, end_date, temporal_resolution=16, region=None, scale=27830):\n",
        "    data_points = []\n",
        "\n",
        "    try:\n",
        "        if collection is None:\n",
        "            raise ValueError(\"No data available to process.\")\n",
        "\n",
        "        dates = pd.date_range(start=start_date, end=end_date, freq=f'{temporal_resolution}D')\n",
        "\n",
        "        for single_date in dates:\n",
        "            end_date = single_date + pd.Timedelta(days=temporal_resolution)\n",
        "            filtered_collection = collection.filterDate(ee.Date(single_date.strftime(\"%Y-%m-%d\")), ee.Date(end_date.strftime(\"%Y-%m-%d\")))\n",
        "            image = filtered_collection.mean()  # Taking the mean composite for the period\n",
        "\n",
        "            reduction = image.reduceRegion(\n",
        "              reducer=ee.Reducer.mean(),\n",
        "              geometry=region,\n",
        "              scale=scale,\n",
        "              maxPixels=1e13\n",
        "            )\n",
        "\n",
        "            data = reduction.getInfo()\n",
        "            data['year'] = single_date.year\n",
        "            data['month'] = single_date.month\n",
        "            data['latitude'] = region.centroid().coordinates().get(0).getInfo()\n",
        "            data['longitude'] = region.centroid().coordinates().get(1).getInfo()\n",
        "\n",
        "            data_points.append(data)\n",
        "\n",
        "        df = pd.DataFrame(data_points)\n",
        "        return df\n",
        "\n",
        "    except Exception as e:\n",
        "        logging.exception(f\"An error occurred during data processing: {e}\")\n",
        "        return pd.DataFrame()"
      ],
      "metadata": {
        "id": "N4KbtQIEudNh"
      },
      "execution_count": null,
      "outputs": []
    },
    {
      "cell_type": "markdown",
      "source": [
        "**Function 2: main**\n",
        "\n",
        "The main function orchestrates the extraction, processing, and saving of sea temperature and salinity data.\n",
        "\n",
        "1) A time range for data extraction is defined using the start and end dates.\n",
        "\n",
        "2) The region of interest, Sundarbans Mangroves, is defined using a rectangular geometry.\n",
        "\n",
        "3) Calls the extract_data function to extract data for the specified time range, dataset, region, and scale.\n",
        "\n",
        "4) Calls the process_data_to_dataframe function to process the extracted data into a DataFrame. It specifies a temporal resolution of 16 days, along with the region and scale.\n",
        "\n",
        "5) Outputs the DataFrame to a CSV file at the specified output path.\n",
        "\n",
        "This block ensures that the main function is called when the script is run, initiating the data extraction, processing, and output sequence."
      ],
      "metadata": {
        "id": "e7Qs4w0oaM_5"
      }
    },
    {
      "cell_type": "code",
      "source": [
        "def main(output_path='/content/drive/MyDrive/Processed_data/sea_temp_salinity_data.csv'):\n",
        "    # Define the time range\n",
        "    start_date = '2000-02-18'\n",
        "    end_date = '2020-07-09'\n",
        "\n",
        "    # Define the region of interest: Sundarbans Mangroves\n",
        "    sundarbans = ee.Geometry.Rectangle([88.0, 21.5, 90.0, 22.5])\n",
        "\n",
        "    # Step 1: Data Extraction\n",
        "    collection = extract_data(start_date, end_date, dataset='HYCOM/sea_temp_salinity', region=sundarbans, scale = 8905.6)\n",
        "\n",
        "    # Step 2: Data Processing\n",
        "    df = process_data_to_dataframe(collection, start_date, end_date, temporal_resolution=16, region=sundarbans, scale = 8905.6)  # Assuming yearly interval\n",
        "\n",
        "    # Output the DataFrame to a CSV file\n",
        "    df.to_csv(output_path, index=False)\n",
        "\n",
        "if __name__ == '__main__':\n",
        "    main()"
      ],
      "metadata": {
        "id": "nTY176UEuxvc"
      },
      "execution_count": null,
      "outputs": []
    }
  ]
}